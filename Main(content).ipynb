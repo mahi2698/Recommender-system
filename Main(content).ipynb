{
 "cells": [
  {
   "cell_type": "code",
   "execution_count": 1,
   "metadata": {},
   "outputs": [],
   "source": [
    "import numpy as np\n",
    "import pandas as pd\n",
    "import matplotlib\n",
    "import matplotlib.pyplot as plt"
   ]
  },
  {
   "cell_type": "code",
   "execution_count": 2,
   "metadata": {},
   "outputs": [],
   "source": [
    "#Reading files:\n",
    "users = pd.read_csv('user_data.csv', encoding='latin-1')\n",
    "problems = pd.read_csv('problem_data.csv', encoding='latin-1')\n",
    "attempts = pd.read_csv('train_submissions.csv', encoding='latin-1')\n",
    "test = pd.read_csv('test_submissions.csv', encoding='latin-1')"
   ]
  },
  {
   "cell_type": "code",
   "execution_count": 3,
   "metadata": {},
   "outputs": [],
   "source": [
    "#print(users)\n",
    "#print(users.shape)\n",
    "#user.head()"
   ]
  },
  {
   "cell_type": "code",
   "execution_count": 4,
   "metadata": {},
   "outputs": [],
   "source": [
    "#print(problems.shape)\n",
    "#problems.head()"
   ]
  },
  {
   "cell_type": "code",
   "execution_count": 5,
   "metadata": {},
   "outputs": [],
   "source": [
    "#print(attempts.shape)\n",
    "#attempts.head()"
   ]
  },
  {
   "cell_type": "code",
   "execution_count": 6,
   "metadata": {},
   "outputs": [],
   "source": [
    "#print(test.shape)"
   ]
  },
  {
   "cell_type": "code",
   "execution_count": 7,
   "metadata": {},
   "outputs": [],
   "source": [
    "n_users_attempted = attempts.user_id.unique().shape[0]\n",
    "n_problems_attempted = attempts.problem_id.unique().shape[0]\n",
    "#print(n_users)\n",
    "#print(n_items)"
   ]
  },
  {
   "cell_type": "code",
   "execution_count": 8,
   "metadata": {},
   "outputs": [
    {
     "name": "stdout",
     "output_type": "stream",
     "text": [
      "[[ 1. -1.  4. ... -1. -1. -1.]\n",
      " [-1.  3.  1. ... -1. -1. -1.]\n",
      " [-1. -1.  1. ... -1. -1. -1.]\n",
      " ...\n",
      " [-1. -1. -1. ... -1. -1. -1.]\n",
      " [-1. -1. -1. ... -1. -1. -1.]\n",
      " [-1. -1. -1. ... -1. -1. -1.]]\n"
     ]
    }
   ],
   "source": [
    "empt=[]\n",
    "for i in attempts.user_id:\n",
    "    temp=int(i.split('_')[1]) \n",
    "    empt.append(temp)\n",
    "attempts.user_id=empt\n",
    "empt=[]\n",
    "for i in attempts.problem_id:\n",
    "    temp=int(i.split('_')[1]) \n",
    "    empt.append(temp)\n",
    "attempts.problem_id=empt\n",
    "unique_users_attempted=attempts.user_id.unique().tolist()\n",
    "unique_problems_attempted=attempts.problem_id.unique().tolist()\n",
    "data_matrix = np.ones((n_users_attempted, n_problems_attempted))\n",
    "data_matrix=(-1)*data_matrix                                             #-1 means problem not attempted\n",
    "for line in attempts.itertuples():\n",
    "     data_matrix[unique_users_attempted.index(line[1]),unique_problems_attempted.index(line[2])] = line[3]\n",
    "print(data_matrix)"
   ]
  },
  {
   "cell_type": "code",
   "execution_count": 9,
   "metadata": {},
   "outputs": [
    {
     "name": "stdout",
     "output_type": "stream",
     "text": [
      "[nan, u'greedy', u'implementation', u'constructive algorithms', u'math', u'brute force', u'dfs and similar', u'dsu', u'graphs', u'number theory', u'dp', u'data structures', u'expression parsing', u'bitmasks', u'divide and conquer', u'sortings', u'shortest paths', u'combinatorics', u'strings', u'games', u'hashing', u'binary search', u'two pointers', u'trees', u'probabilities', u'ternary search', u'flows', u'meet-in-the-middle', u'*special', u'geometry', u'graph matchings', u'string suffix structures', u'fft', u'matrices', u'schedules', u'2-sat', u'chinese remainder theorem']\n"
     ]
    }
   ],
   "source": [
    "tag=[]\n",
    "unique_tags=[]\n",
    "empt=[]\n",
    "for f in problems.tags:\n",
    "    if type(f)!=float:\n",
    "        tag=f.split(',')\n",
    "        for i in tag:\n",
    "            if i not in unique_tags:\n",
    "                unique_tags.append(i)\n",
    "        empt.append(tag)                                   #to convert it to list\n",
    "    else:\n",
    "        empt.append(f)\n",
    "        if f not in unique_tags:\n",
    "            unique_tags.append(f)\n",
    "print unique_tags\n",
    "problems.tags=empt"
   ]
  },
  {
   "cell_type": "code",
   "execution_count": 10,
   "metadata": {},
   "outputs": [
    {
     "name": "stdout",
     "output_type": "stream",
     "text": [
      "[[8.0e+00     nan 1.0e+00 ... 0.0e+00 0.0e+00 0.0e+00]\n",
      " [1.0e+00     nan 1.0e+00 ... 0.0e+00 0.0e+00 0.0e+00]\n",
      " [6.0e+00     nan 1.0e+00 ... 0.0e+00 0.0e+00 0.0e+00]\n",
      " ...\n",
      " [3.0e+00 1.5e+03 0.0e+00 ... 0.0e+00 0.0e+00 0.0e+00]\n",
      " [1.0e+00 5.0e+02 0.0e+00 ... 0.0e+00 0.0e+00 0.0e+00]\n",
      " [2.0e+00     nan 1.0e+00 ... 0.0e+00 0.0e+00 0.0e+00]]\n"
     ]
    }
   ],
   "source": [
    "n_problems = problems.problem_id.unique().shape[0]\n",
    "\n",
    "#create problem profile\n",
    "empt=[]\n",
    "for j in problems.level_type:\n",
    "    if type(j)!=float:\n",
    "        empt.append(ord(j)-ord('A')+1)\n",
    "    else:\n",
    "        empt.append(0)\n",
    "problems.level_type=empt\n",
    "empt=[]\n",
    "for i in problems.problem_id:\n",
    "    temp=int(i.split('_')[1]) \n",
    "    empt.append(temp)\n",
    "problems.problem_id=empt\n",
    "problem_profile = np.zeros((n_problems, len(unique_tags)+2))\n",
    "for c in problems.itertuples():\n",
    "    index=problems.problem_id.tolist().index(c[1])\n",
    "    problem_profile[index,0]= c[2]\n",
    "    problem_profile[index,1]= c[3]\n",
    "    if type(c[4])!=list:\n",
    "        problem_profile[index,unique_tags.index(c[4])+2]=1\n",
    "    else:\n",
    "        for i in c[4]:\n",
    "            problem_profile[index,unique_tags.index(i)+2]=1    \n",
    "            \n",
    "print problem_profile"
   ]
  },
  {
   "cell_type": "code",
   "execution_count": 85,
   "metadata": {},
   "outputs": [
    {
     "ename": "ValueError",
     "evalue": "3177 is not in list",
     "output_type": "error",
     "traceback": [
      "\u001b[0;31m---------------------------------------------------------------------------\u001b[0m",
      "\u001b[0;31mValueError\u001b[0m                                Traceback (most recent call last)",
      "\u001b[0;32m<ipython-input-85-0d69ef4b009a>\u001b[0m in \u001b[0;36m<module>\u001b[0;34m()\u001b[0m\n\u001b[1;32m     14\u001b[0m     \u001b[0mproblem\u001b[0m\u001b[0;34m=\u001b[0m\u001b[0mnp\u001b[0m\u001b[0;34m.\u001b[0m\u001b[0mzeros\u001b[0m\u001b[0;34m(\u001b[0m\u001b[0;34m(\u001b[0m\u001b[0mlen\u001b[0m\u001b[0;34m(\u001b[0m\u001b[0munique_tags\u001b[0m\u001b[0;34m)\u001b[0m\u001b[0;34m,\u001b[0m\u001b[0mlen\u001b[0m\u001b[0;34m(\u001b[0m\u001b[0munique_problems_attempted\u001b[0m\u001b[0;34m)\u001b[0m\u001b[0;34m)\u001b[0m\u001b[0;34m)\u001b[0m\u001b[0;34m\u001b[0m\u001b[0m\n\u001b[1;32m     15\u001b[0m     \u001b[0mi\u001b[0m\u001b[0;34m=\u001b[0m\u001b[0;36m0\u001b[0m\u001b[0;34m\u001b[0m\u001b[0m\n\u001b[0;32m---> 16\u001b[0;31m     \u001b[0;32mfor\u001b[0m \u001b[0mattempt\u001b[0m \u001b[0;32min\u001b[0m \u001b[0mdata_matrix\u001b[0m\u001b[0;34m.\u001b[0m\u001b[0mtolist\u001b[0m\u001b[0;34m(\u001b[0m\u001b[0;34m)\u001b[0m\u001b[0;34m[\u001b[0m\u001b[0munique_users_attempted\u001b[0m\u001b[0;34m.\u001b[0m\u001b[0mindex\u001b[0m\u001b[0;34m(\u001b[0m\u001b[0mc\u001b[0m\u001b[0;34m[\u001b[0m\u001b[0;36m1\u001b[0m\u001b[0;34m]\u001b[0m\u001b[0;34m)\u001b[0m\u001b[0;34m]\u001b[0m\u001b[0;34m:\u001b[0m\u001b[0;34m\u001b[0m\u001b[0m\n\u001b[0m\u001b[1;32m     17\u001b[0m         \u001b[0mi\u001b[0m\u001b[0;34m+=\u001b[0m\u001b[0;36m1\u001b[0m\u001b[0;34m\u001b[0m\u001b[0m\n\u001b[1;32m     18\u001b[0m         \u001b[0;32mif\u001b[0m \u001b[0mattempt\u001b[0m\u001b[0;34m!=\u001b[0m\u001b[0;34m-\u001b[0m\u001b[0;36m1\u001b[0m\u001b[0;34m:\u001b[0m\u001b[0;34m\u001b[0m\u001b[0m\n",
      "\u001b[0;31mValueError\u001b[0m: 3177 is not in list"
     ]
    }
   ],
   "source": [
    "#create user profile\n",
    "#we need to create the user profile matrix as having boolean values for each entry of the problem tag and the mean rating for that too\n",
    "users = pd.read_csv('user_data.csv', encoding='latin-1')\n",
    "empt=[]\n",
    "for i in users.user_id:\n",
    "    temp=int(i.split('_')[1]) \n",
    "    empt.append(temp)\n",
    "users.user_id=empt\n",
    "user_profile = np.zeros((n_problems, len(unique_tags)+2))\n",
    "for c in users.itertuples():\n",
    "    index=users.user_id.tolist().index(c[1])\n",
    "    mean=0\n",
    "    no=0\n",
    "    problem=np.zeros((len(unique_tags),len(unique_problems_attempted)))\n",
    "    i=0\n",
    "    for attempt in data_matrix.tolist()[unique_users_attempted.index(c[1])]:\n",
    "        i+=1\n",
    "        if attempt!=-1:\n",
    "            mean+=attempt\n",
    "            no+=1\n",
    "            p=problems.problem_id.tolist().index(unique_problems_attempted[i])\n",
    "            \n",
    "            #if type(c[4])!=list:\n",
    "            #    problem_profile[index,unique_tags.index(c[4])+2]=1\n",
    "            #else:\n",
    "            #    for j in c[4]:\n",
    "            #        problem_profile[index,unique_tags.index(i)+2]=1\n",
    "            #problem[,i]+=attempt\n",
    "            \n",
    "    #mean="
   ]
  },
  {
   "cell_type": "code",
   "execution_count": null,
   "metadata": {},
   "outputs": [],
   "source": []
  },
  {
   "cell_type": "code",
   "execution_count": null,
   "metadata": {},
   "outputs": [],
   "source": []
  },
  {
   "cell_type": "code",
   "execution_count": null,
   "metadata": {},
   "outputs": [],
   "source": []
  },
  {
   "cell_type": "code",
   "execution_count": null,
   "metadata": {},
   "outputs": [],
   "source": []
  }
 ],
 "metadata": {
  "kernelspec": {
   "display_name": "Python 2",
   "language": "python",
   "name": "python2"
  },
  "language_info": {
   "codemirror_mode": {
    "name": "ipython",
    "version": 2
   },
   "file_extension": ".py",
   "mimetype": "text/x-python",
   "name": "python",
   "nbconvert_exporter": "python",
   "pygments_lexer": "ipython2",
   "version": "2.7.12"
  }
 },
 "nbformat": 4,
 "nbformat_minor": 2
}
